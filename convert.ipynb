{
 "cells": [
  {
   "cell_type": "code",
   "id": "initial_id",
   "metadata": {
    "collapsed": true,
    "ExecuteTime": {
     "end_time": "2025-02-04T00:26:08.203262Z",
     "start_time": "2025-02-04T00:26:08.200120Z"
    }
   },
   "source": [
    "import json\n",
    "import os\n",
    "import shutil"
   ],
   "outputs": [],
   "execution_count": 10
  },
  {
   "metadata": {
    "ExecuteTime": {
     "end_time": "2025-02-04T00:26:08.553021Z",
     "start_time": "2025-02-04T00:26:08.549250Z"
    }
   },
   "cell_type": "code",
   "source": [
    "with open(\"picks/picks.json\", \"r\") as f:\n",
    "    js = json.load(f)"
   ],
   "id": "e2d1a5b8aea41b86",
   "outputs": [],
   "execution_count": 11
  },
  {
   "metadata": {
    "ExecuteTime": {
     "end_time": "2025-02-04T00:26:08.979594Z",
     "start_time": "2025-02-04T00:26:08.975293Z"
    }
   },
   "cell_type": "code",
   "source": [
    "os.makedirs(\"yolo_picks/images/train\"); os.makedirs(\"yolo_picks/images/test\"); os.makedirs(\n",
    "    \"yolo_picks/images/val\")\n",
    "os.makedirs(\"yolo_picks/labels/train\"); os.makedirs(\"yolo_picks/labels/test\"); os.makedirs(\n",
    "    \"yolo_picks/labels/val\")"
   ],
   "id": "a8cbdf3e21413c93",
   "outputs": [],
   "execution_count": 12
  },
  {
   "metadata": {
    "ExecuteTime": {
     "end_time": "2025-02-04T00:26:09.583305Z",
     "start_time": "2025-02-04T00:26:09.580029Z"
    }
   },
   "cell_type": "code",
   "source": [
    "annotations = {\n",
    "    image[\"filename\"]: [\n",
    "        (f\"{int(region['region_attributes']['Color'])-1} \"\n",
    "        f\"{(region['shape_attributes']['x']+region['shape_attributes']['width']/2)/4000:.4f} \"\n",
    "        f\"{(region['shape_attributes']['y']+region['shape_attributes']['height']/2)/3000:.4f} \"\n",
    "        f\"{region['shape_attributes']['width']/4000:.4f} \"\n",
    "        f\"{region['shape_attributes']['height']/4000:.4f}\\n\")\n",
    "        for region in image[\"regions\"]\n",
    "    ] \n",
    "    for image in js.values()\n",
    "}        "
   ],
   "id": "e7ce8a7d832494a5",
   "outputs": [],
   "execution_count": 13
  },
  {
   "metadata": {
    "ExecuteTime": {
     "end_time": "2025-02-04T00:26:10.386448Z",
     "start_time": "2025-02-04T00:26:10.346488Z"
    }
   },
   "cell_type": "code",
   "source": [
    "for idx, (image, text) in enumerate(annotations.items()):\n",
    "    dir = \"test\"  if idx < 5 else (\"val\" if idx < 10 else \"train\")\n",
    "    with open(f\"yolo_picks/labels/{dir}/{'.'.join(image.split('.')[:-1])}.txt\", \"w\") as f:\n",
    "        f.writelines(text)\n",
    "    shutil.copyfile(f\"./picks/{image}\", f\"yolo_picks/images/{dir}/{image}\")"
   ],
   "id": "42e4080de0c570c3",
   "outputs": [],
   "execution_count": 14
  },
  {
   "metadata": {
    "ExecuteTime": {
     "end_time": "2025-02-04T00:26:11.283015Z",
     "start_time": "2025-02-04T00:26:11.280020Z"
    }
   },
   "cell_type": "code",
   "source": [
    "yaml_content = (\"path: ../yolo_picks/\\n\"\n",
    "                \"train: images/train\\n\"\n",
    "                \"val: images/val\\n\"\n",
    "                \"test: images/test\\n\"\n",
    "                \"names:\\n\"\n",
    "                \"    0: green\\n\"\n",
    "                \"    1: blue\\n\"\n",
    "                \"    2: gray\\n\"\n",
    "                \"    3: beige\\n\"\n",
    "                \"    4: black-white-red\\n\")"
   ],
   "id": "7219473d23bce732",
   "outputs": [],
   "execution_count": 15
  },
  {
   "metadata": {
    "ExecuteTime": {
     "end_time": "2025-02-04T00:26:13.106870Z",
     "start_time": "2025-02-04T00:26:13.103417Z"
    }
   },
   "cell_type": "code",
   "source": [
    "with open(\"picks.yaml\", \"w\") as f:\n",
    "    f.write(yaml_content)"
   ],
   "id": "533d1d5c49aa6d23",
   "outputs": [],
   "execution_count": 16
  }
 ],
 "metadata": {
  "kernelspec": {
   "display_name": "Python 3",
   "language": "python",
   "name": "python3"
  },
  "language_info": {
   "codemirror_mode": {
    "name": "ipython",
    "version": 2
   },
   "file_extension": ".py",
   "mimetype": "text/x-python",
   "name": "python",
   "nbconvert_exporter": "python",
   "pygments_lexer": "ipython2",
   "version": "2.7.6"
  }
 },
 "nbformat": 4,
 "nbformat_minor": 5
}
